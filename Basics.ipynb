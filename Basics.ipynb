{
 "cells": [
  {
   "cell_type": "markdown",
   "id": "90d8cd24-9894-4f76-b8a2-997a8e29eaa1",
   "metadata": {},
   "source": [
    "Here I'm going to create a list of groceries with their prices"
   ]
  },
  {
   "cell_type": "code",
   "execution_count": 7,
   "id": "f719f3f1-9630-4451-99ab-2f9561ecfd47",
   "metadata": {},
   "outputs": [],
   "source": [
    "prices = {\n",
    "    \"apple\": 0.40,\n",
    "    \"banana\": 0.50,\n",
    "}"
   ]
  },
  {
   "cell_type": "markdown",
   "id": "1649b477-3e09-4d93-ae94-fb5b2a2dfde0",
   "metadata": {},
   "source": [
    "Here I'm going to create a list of items in my basket"
   ]
  },
  {
   "cell_type": "code",
   "execution_count": 4,
   "id": "382bb198-9274-4ff9-9dbd-aa6924a89017",
   "metadata": {},
   "outputs": [],
   "source": [
    "my_basket = {\n",
    "    \"apple\": 1,\n",
    "    \"banana\": 6,\n",
    "}"
   ]
  },
  {
   "cell_type": "markdown",
   "id": "72a58c0c-9b29-4dae-a675-193c8ee28703",
   "metadata": {},
   "source": [
    "Here I'm going to calculate my total grocery bill and create a statement with how much I owe."
   ]
  },
  {
   "cell_type": "code",
   "execution_count": null,
   "id": "81c0b6f7-4b35-434c-9c7a-af35640ab2ef",
   "metadata": {},
   "outputs": [],
   "source": []
  },
  {
   "cell_type": "code",
   "execution_count": 5,
   "id": "8f2fc2ec-d5a7-4ca4-8427-e6d5e355646a",
   "metadata": {},
   "outputs": [
    {
     "name": "stdout",
     "output_type": "stream",
     "text": [
      "I owe the grocer £3.40\n"
     ]
    }
   ],
   "source": [
    "total_grocery_bill = 0\n",
    "for fruit, count in my_basket.items():\n",
    "    total_grocery_bill += prices[fruit] * count\n",
    "print(f\"I owe the grocer £{total_grocery_bill:.2f}\")"
   ]
  },
  {
   "cell_type": "markdown",
   "id": "b4552fbd-1355-46c7-bddd-134264a5540f",
   "metadata": {},
   "source": []
  },
  {
   "cell_type": "code",
   "execution_count": null,
   "id": "9d1f0097-63f2-4995-aec9-bbeb28e98d2b",
   "metadata": {},
   "outputs": [],
   "source": []
  }
 ],
 "metadata": {
  "kernelspec": {
   "display_name": "Python 3 (ipykernel)",
   "language": "python",
   "name": "python3"
  },
  "language_info": {
   "codemirror_mode": {
    "name": "ipython",
    "version": 3
   },
   "file_extension": ".py",
   "mimetype": "text/x-python",
   "name": "python",
   "nbconvert_exporter": "python",
   "pygments_lexer": "ipython3",
   "version": "3.9.7"
  }
 },
 "nbformat": 4,
 "nbformat_minor": 5
}
